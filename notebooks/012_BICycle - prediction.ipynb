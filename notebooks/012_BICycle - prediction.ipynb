{
 "cells": [
  {
   "cell_type": "code",
   "execution_count": 2,
   "outputs": [],
   "source": [
    "%load_ext autoreload\n",
    "%autoreload 2"
   ],
   "metadata": {
    "collapsed": false,
    "pycharm": {
     "name": "#%%\n"
    }
   }
  },
  {
   "cell_type": "code",
   "execution_count": 3,
   "outputs": [
    {
     "name": "stderr",
     "output_type": "stream",
     "text": [
      "C:\\Users\\nitha\\Anaconda3\\envs\\AIArch\\lib\\site-packages\\tensorflow_addons\\utils\\tfa_eol_msg.py:23: UserWarning: \n",
      "\n",
      "TensorFlow Addons (TFA) has ended development and introduction of new features.\n",
      "TFA has entered a minimal maintenance and release mode until a planned end of life in May 2024.\n",
      "Please modify downstream libraries to take dependencies from other repositories in our TensorFlow community (e.g. Keras, Keras-CV, and Keras-NLP). \n",
      "\n",
      "For more information see: https://github.com/tensorflow/addons/issues/2807 \n",
      "\n",
      "  warnings.warn(\n"
     ]
    }
   ],
   "source": [
    "from mlgan.generator.run import run as build_generator\n",
    "from mlgan.core import preprocessing, postprocessing, data_sources"
   ],
   "metadata": {
    "collapsed": false,
    "pycharm": {
     "name": "#%%\n"
    }
   }
  },
  {
   "cell_type": "code",
   "execution_count": 4,
   "outputs": [],
   "source": [
    "from pathlib import Path\n",
    "import random\n",
    "import logging\n",
    "\n",
    "import numpy as np\n",
    "import cv2\n",
    "import ast\n",
    "import matplotlib.pyplot as plt"
   ],
   "metadata": {
    "collapsed": false,
    "pycharm": {
     "name": "#%%\n"
    }
   }
  },
  {
   "cell_type": "code",
   "execution_count": 6,
   "outputs": [],
   "source": [
    "logging.basicConfig(\n",
    "    level=logging.INFO, format=\"%(asctime)s - %(levelname)s - %(module)s - %(message)s\"\n",
    ")"
   ],
   "metadata": {
    "collapsed": false,
    "pycharm": {
     "name": "#%%\n"
    }
   }
  },
  {
   "cell_type": "code",
   "execution_count": 7,
   "outputs": [],
   "source": [
    "input_images = Path('../data/images/complete_floorplan/input/')"
   ],
   "metadata": {
    "collapsed": false,
    "pycharm": {
     "name": "#%%\n"
    }
   }
  },
  {
   "cell_type": "code",
   "execution_count": 8,
   "outputs": [
    {
     "name": "stderr",
     "output_type": "stream",
     "text": [
      "2023-06-04 10:52:54,665 - INFO - yaml_files - Loading yaml file from ..\\config\\generator\\complete_floorplan.yaml.\n"
     ]
    }
   ],
   "source": [
    "config_generator = data_sources.load_yaml(Path(\"../config/generator/complete_floorplan.yaml\"))\n",
    "config_generator['settings']['input_shape'] = ast.literal_eval(config_generator['settings']['input_shape'])"
   ],
   "metadata": {
    "collapsed": false,
    "pycharm": {
     "name": "#%%\n"
    }
   }
  },
  {
   "cell_type": "code",
   "execution_count": null,
   "outputs": [
    {
     "name": "stderr",
     "output_type": "stream",
     "text": [
      "2023-06-04 10:52:56,489 - INFO - BaseGenerator - Loading model for category: single_floor.\n",
      "2023-06-04 10:52:56,643 - WARNING - normalizations - The given value for groups will be overwritten.\n",
      "2023-06-04 10:52:56,652 - WARNING - normalizations - The given value for groups will be overwritten.\n",
      "2023-06-04 10:52:56,659 - WARNING - normalizations - The given value for groups will be overwritten.\n",
      "2023-06-04 10:52:56,666 - WARNING - normalizations - The given value for groups will be overwritten.\n",
      "2023-06-04 10:52:56,674 - WARNING - normalizations - The given value for groups will be overwritten.\n",
      "2023-06-04 10:52:56,684 - WARNING - normalizations - The given value for groups will be overwritten.\n",
      "2023-06-04 10:52:56,692 - WARNING - normalizations - The given value for groups will be overwritten.\n",
      "2023-06-04 10:52:56,698 - WARNING - normalizations - The given value for groups will be overwritten.\n",
      "2023-06-04 10:52:56,706 - WARNING - normalizations - The given value for groups will be overwritten.\n",
      "2023-06-04 10:52:56,729 - WARNING - normalizations - The given value for groups will be overwritten.\n",
      "2023-06-04 10:52:56,741 - WARNING - normalizations - The given value for groups will be overwritten.\n",
      "2023-06-04 10:52:56,753 - WARNING - normalizations - The given value for groups will be overwritten.\n",
      "2023-06-04 10:52:56,766 - WARNING - normalizations - The given value for groups will be overwritten.\n",
      "2023-06-04 10:52:56,777 - WARNING - normalizations - The given value for groups will be overwritten.\n"
     ]
    }
   ],
   "source": [
    "generator = build_generator(config_generator)"
   ],
   "metadata": {
    "collapsed": false,
    "pycharm": {
     "name": "#%%\n",
     "is_executing": true
    }
   }
  },
  {
   "cell_type": "code",
   "execution_count": null,
   "outputs": [],
   "source": [
    "input_images_list = [x for x in input_images.glob('*.png')]\n",
    "len(input_images_list)"
   ],
   "metadata": {
    "collapsed": false,
    "pycharm": {
     "name": "#%%\n",
     "is_executing": true
    }
   }
  },
  {
   "cell_type": "code",
   "execution_count": 10,
   "outputs": [
    {
     "name": "stdout",
     "output_type": "stream",
     "text": [
      "1/1 [==============================] - 3s 3s/step\n",
      "1/1 [==============================] - 0s 373ms/step\n",
      "1/1 [==============================] - 0s 408ms/step\n",
      "1/1 [==============================] - 0s 398ms/step\n",
      "1/1 [==============================] - 0s 350ms/step\n"
     ]
    }
   ],
   "source": [
    "random_file = random.choice(input_images_list)\n",
    "\n",
    "input_image = cv2.imread(str(random_file))\n",
    "input_image = cv2.cvtColor(input_image, cv2.COLOR_BGR2RGB)\n",
    "\n",
    "predictions = generator.predict(input_image, 5)\n",
    "# generator.visualize_predictions(input_image, predictions=predictions);"
   ],
   "metadata": {
    "collapsed": false,
    "pycharm": {
     "name": "#%%\n"
    }
   }
  },
  {
   "cell_type": "code",
   "execution_count": 11,
   "outputs": [],
   "source": [
    "\n",
    "preprocessed_img = generator.preprocess_image(input_image)"
   ],
   "metadata": {
    "collapsed": false,
    "pycharm": {
     "name": "#%%\n"
    }
   }
  },
  {
   "cell_type": "code",
   "execution_count": 12,
   "outputs": [],
   "source": [
    "preprocessed_img = (preprocessed_img * 0.5) + 0.5"
   ],
   "metadata": {
    "collapsed": false,
    "pycharm": {
     "name": "#%%\n"
    }
   }
  },
  {
   "cell_type": "code",
   "execution_count": 13,
   "outputs": [],
   "source": [
    "n_predictions = len(predictions.keys())"
   ],
   "metadata": {
    "collapsed": false,
    "pycharm": {
     "name": "#%%\n"
    }
   }
  },
  {
   "cell_type": "code",
   "execution_count": 14,
   "outputs": [
    {
     "data": {
      "text/plain": "5"
     },
     "execution_count": 14,
     "metadata": {},
     "output_type": "execute_result"
    }
   ],
   "source": [
    "n_predictions"
   ],
   "metadata": {
    "collapsed": false,
    "pycharm": {
     "name": "#%%\n"
    }
   }
  },
  {
   "cell_type": "code",
   "execution_count": null,
   "outputs": [],
   "source": [
    "int(np.ceil((n_predictions + 1) / 3))"
   ],
   "metadata": {
    "collapsed": false,
    "pycharm": {
     "name": "#%%\n"
    }
   }
  },
  {
   "cell_type": "code",
   "execution_count": 5,
   "outputs": [
    {
     "data": {
      "text/plain": "<Figure size 1500x1500 with 6 Axes>",
      "image/png": "[encoded data removed]"
     },
     "metadata": {},
     "output_type": "display_data"
    }
   ],
   "source": [
    "fig, axes =  plt.subplots(\n",
    "    figsize=(15, 3 * 5),\n",
    "    nrows=2,\n",
    "    ncols=3,\n",
    ")"
   ],
   "metadata": {
    "collapsed": false,
    "pycharm": {
     "name": "#%%\n"
    }
   }
  },
  {
   "cell_type": "code",
   "execution_count": 1,
   "outputs": [
    {
     "ename": "NameError",
     "evalue": "name 'preprocessed_img' is not defined",
     "output_type": "error",
     "traceback": [
      "\u001B[1;31m---------------------------------------------------------------------------\u001B[0m",
      "\u001B[1;31mNameError\u001B[0m                                 Traceback (most recent call last)",
      "Cell \u001B[1;32mIn[1], line 1\u001B[0m\n\u001B[1;32m----> 1\u001B[0m input_results \u001B[38;5;241m=\u001B[39m [\u001B[43mpreprocessed_img\u001B[49m] \u001B[38;5;241m+\u001B[39m \u001B[38;5;28mlist\u001B[39m(predictions\u001B[38;5;241m.\u001B[39mvalues())\n",
      "\u001B[1;31mNameError\u001B[0m: name 'preprocessed_img' is not defined"
     ]
    }
   ],
   "source": [
    "input_results = [preprocessed_img] + list(predictions.values())"
   ],
   "metadata": {
    "collapsed": false,
    "pycharm": {
     "name": "#%%\n"
    }
   }
  },
  {
   "cell_type": "code",
   "execution_count": null,
   "outputs": [],
   "source": [
    "input_results = [preprocessed_img] + list(predictions.values())\n",
    "titles = [\"input\"] + [\n",
    "    f\"{comb[0]}_{comb[1]}\" for comb in list(predictions.keys())\n",
    "]\n",
    "\n",
    "i = 0\n",
    "for title, img, ax in zip(titles, input_results, axes.flatten()):\n",
    "    # plt.subplot(ax)\n",
    "    plt.title(f\"{i}_{title}\", fontweight=\"bold\")\n",
    "    plt.imshow(img)\n",
    "    plt.axis(\"off\")\n",
    "    i += 1\n",
    "\n",
    "for ax in axes.flatten():\n",
    "    # plt.subplot(ax)\n",
    "    plt.axis(\"off\")\n",
    "plt.tight_layout()\n"
   ],
   "metadata": {
    "collapsed": false,
    "pycharm": {
     "name": "#%%\n"
    }
   }
  }
 ],
 "metadata": {
  "kernelspec": {
   "display_name": "Python 3",
   "language": "python",
   "name": "python3"
  },
  "language_info": {
   "codemirror_mode": {
    "name": "ipython",
    "version": 2
   },
   "file_extension": ".py",
   "mimetype": "text/x-python",
   "name": "python",
   "nbconvert_exporter": "python",
   "pygments_lexer": "ipython2",
   "version": "2.7.6"
  }
 },
 "nbformat": 4,
 "nbformat_minor": 0
}