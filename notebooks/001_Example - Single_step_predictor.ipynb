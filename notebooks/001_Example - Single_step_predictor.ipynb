{
 "cells": [
  {
   "cell_type": "markdown",
   "metadata": {
    "pycharm": {
     "name": "#%% md\n"
    }
   },
   "source": [
    "# Single step predictor\n",
    "\n",
    "This notebook shows how to load the predictor, make some predictions, and postprocess them."
   ]
  },
  {
   "cell_type": "code",
   "execution_count": 3,
   "metadata": {
    "ExecuteTime": {
     "end_time": "2023-05-29T21:16:52.048570300Z",
     "start_time": "2023-05-29T21:16:51.940335Z"
    },
    "pycharm": {
     "name": "#%%\n"
    }
   },
   "outputs": [],
   "source": [
    "%load_ext autoreload\n",
    "%autoreload 2"
   ]
  },
  {
   "cell_type": "code",
   "execution_count": 4,
   "metadata": {
    "ExecuteTime": {
     "end_time": "2023-05-29T22:27:44.218929300Z",
     "start_time": "2023-05-29T22:27:42.764964200Z"
    },
    "pycharm": {
     "name": "#%%\n"
    }
   },
   "outputs": [
    {
     "name": "stderr",
     "output_type": "stream",
     "text": [
      "C:\\Users\\nitha\\Anaconda3\\envs\\AIArch\\lib\\site-packages\\tensorflow_addons\\utils\\tfa_eol_msg.py:23: UserWarning: \n",
      "\n",
      "TensorFlow Addons (TFA) has ended development and introduction of new features.\n",
      "TFA has entered a minimal maintenance and release mode until a planned end of life in May 2024.\n",
      "Please modify downstream libraries to take dependencies from other repositories in our TensorFlow community (e.g. Keras, Keras-CV, and Keras-NLP). \n",
      "\n",
      "For more information see: https://github.com/tensorflow/addons/issues/2807 \n",
      "\n",
      "  warnings.warn(\n"
     ]
    }
   ],
   "source": [
    "from mlgan.generator.run import run as build_generator\n",
    "from mlgan.core import preprocessing, postprocessing, data_sources\n",
    "\n"
   ]
  },
  {
   "cell_type": "code",
   "execution_count": 1,
   "outputs": [],
   "source": [
    "from pathlib import Path\n",
    "import random\n",
    "import logging\n",
    "\n",
    "import numpy as np\n",
    "import cv2\n",
    "import ast\n",
    "import matplotlib.pyplot as plt"
   ],
   "metadata": {
    "collapsed": false,
    "pycharm": {
     "name": "#%%\n"
    }
   }
  },
  {
   "cell_type": "code",
   "execution_count": 6,
   "metadata": {
    "pycharm": {
     "name": "#%%\n"
    }
   },
   "outputs": [],
   "source": [
    "logging.basicConfig(\n",
    "    level=logging.INFO, format=\"%(asctime)s - %(levelname)s - %(module)s - %(message)s\"\n",
    ")"
   ]
  },
  {
   "cell_type": "code",
   "execution_count": 7,
   "metadata": {
    "pycharm": {
     "name": "#%%\n"
    }
   },
   "outputs": [],
   "source": [
    "input_images = Path('../data/images/complete_floorplan/input/')"
   ]
  },
  {
   "cell_type": "code",
   "execution_count": 8,
   "metadata": {
    "pycharm": {
     "name": "#%%\n"
    }
   },
   "outputs": [
    {
     "name": "stderr",
     "output_type": "stream",
     "text": [
      "2023-06-03 19:18:30,346 - INFO - yaml_files - Loading yaml file from ..\\config\\generator\\complete_floorplan.yaml.\n"
     ]
    }
   ],
   "source": [
    "config_generator = data_sources.load_yaml(Path(\"../config/generator/complete_floorplan.yaml\"))\n",
    "config_generator['settings']['input_shape'] = ast.literal_eval(config_generator['settings']['input_shape'])"
   ]
  },
  {
   "cell_type": "code",
   "execution_count": 11,
   "metadata": {
    "pycharm": {
     "name": "#%%\n"
    }
   },
   "outputs": [
    {
     "name": "stderr",
     "output_type": "stream",
     "text": [
      "2023-06-03 19:19:45,619 - INFO - BaseGenerator - Loading model for category: models.\n",
      "2023-06-03 19:19:45,651 - WARNING - normalizations - The given value for groups will be overwritten.\n",
      "2023-06-03 19:19:45,651 - WARNING - normalizations - The given value for groups will be overwritten.\n",
      "2023-06-03 19:19:45,651 - WARNING - normalizations - The given value for groups will be overwritten.\n",
      "2023-06-03 19:19:45,666 - WARNING - normalizations - The given value for groups will be overwritten.\n",
      "2023-06-03 19:19:45,666 - WARNING - normalizations - The given value for groups will be overwritten.\n",
      "2023-06-03 19:19:45,682 - WARNING - normalizations - The given value for groups will be overwritten.\n",
      "2023-06-03 19:19:45,687 - WARNING - normalizations - The given value for groups will be overwritten.\n",
      "2023-06-03 19:19:45,687 - WARNING - normalizations - The given value for groups will be overwritten.\n",
      "2023-06-03 19:19:45,698 - WARNING - normalizations - The given value for groups will be overwritten.\n",
      "2023-06-03 19:19:45,698 - WARNING - normalizations - The given value for groups will be overwritten.\n",
      "2023-06-03 19:19:45,714 - WARNING - normalizations - The given value for groups will be overwritten.\n",
      "2023-06-03 19:19:45,714 - WARNING - normalizations - The given value for groups will be overwritten.\n",
      "2023-06-03 19:19:45,729 - WARNING - normalizations - The given value for groups will be overwritten.\n",
      "2023-06-03 19:19:45,745 - WARNING - normalizations - The given value for groups will be overwritten.\n",
      "C:\\Users\\nitha\\Anaconda3\\envs\\AIArch\\lib\\site-packages\\keras\\initializers\\initializers_v2.py:120: UserWarning: The initializer RandomNormal is unseeded and being called multiple times, which will return identical values  each time (even if the initializer is unseeded). Please update your code to provide a seed to the initializer, or avoid using the same initalizer instance more than once.\n",
      "  warnings.warn(\n"
     ]
    }
   ],
   "source": [
    "generator = build_generator(config_generator)"
   ]
  },
  {
   "cell_type": "code",
   "execution_count": 12,
   "metadata": {
    "pycharm": {
     "name": "#%%\n"
    }
   },
   "outputs": [
    {
     "data": {
      "text/plain": "1764"
     },
     "execution_count": 12,
     "metadata": {},
     "output_type": "execute_result"
    }
   ],
   "source": [
    "input_images_list = [x for x in input_images.glob('*.png')]\n",
    "len(input_images_list)"
   ]
  },
  {
   "cell_type": "code",
   "execution_count": null,
   "metadata": {
    "pycharm": {
     "name": "#%%\n",
     "is_executing": true
    }
   },
   "outputs": [
    {
     "name": "stdout",
     "output_type": "stream",
     "text": [
      "1/1 [==============================] - 1s 1s/step\n",
      "1/1 [==============================] - 0s 273ms/step\n",
      "1/1 [==============================] - 0s 283ms/step\n",
      "1/1 [==============================] - 0s 267ms/step\n",
      "1/1 [==============================] - 0s 266ms/step\n"
     ]
    }
   ],
   "source": [
    "random_file = random.choice(input_images_list)\n",
    "\n",
    "input_image = cv2.imread(str(random_file))\n",
    "input_image = cv2.cvtColor(input_image, cv2.COLOR_BGR2RGB)\n",
    "\n",
    "predictions = generator.predict(input_image, 5)\n",
    "generator.visualize_predictions(input_image, predictions=predictions);"
   ]
  },
  {
   "cell_type": "code",
   "execution_count": null,
   "metadata": {
    "pycharm": {
     "name": "#%%\n"
    }
   },
   "outputs": [],
   "source": [
    "postprocessed_predictions = generator.postprocess_predictions(predictions=predictions, input_img=input_image)"
   ]
  },
  {
   "cell_type": "code",
   "execution_count": null,
   "metadata": {
    "pycharm": {
     "name": "#%%\n"
    }
   },
   "outputs": [],
   "source": [
    "preprocessed_img = preprocessing.resize_and_pad(\n",
    "    input_image, size=(256, 256), pad_color=255\n",
    ")\n",
    "\n",
    "in_img_gdf = preprocessing.image_to_geodataframe(preprocessed_img)\n",
    "in_img_gdf.geometry = [in_img_gdf.unary_union] * in_img_gdf.shape[0]\n",
    "in_img_gdf = in_img_gdf.head(1).explode().reset_index(drop=True)"
   ]
  },
  {
   "cell_type": "code",
   "execution_count": null,
   "metadata": {
    "pycharm": {
     "name": "#%%\n"
    }
   },
   "outputs": [],
   "source": [
    "n_predictions = len(postprocessed_predictions.keys())\n",
    "fig, axes = plt.subplots(nrows=int(np.ceil(n_predictions/2)), ncols=2, figsize=(30, 30))\n",
    "axes = axes.flatten()\n",
    "for _preds, ax in zip(postprocessed_predictions.items(), axes):\n",
    "    in_img_gdf.exterior.buffer(1).plot(ax=ax, color='black')\n",
    "\n",
    "    _key, _res = _preds\n",
    "    _res.plot(color=_res['colors'], ax=ax)\n",
    "    _res.exterior.plot(color='black', ax=ax)\n",
    "    ax.set_title(_key)\n",
    "\n",
    "for ax in axes:\n",
    "    ax.axis('off')\n",
    "fig.suptitle('Postprocessed floorplans', fontsize=16, y=1)\n",
    "plt.tight_layout();"
   ]
  },
  {
   "cell_type": "code",
   "execution_count": null,
   "metadata": {
    "pycharm": {
     "name": "#%%\n"
    }
   },
   "outputs": [],
   "source": []
  }
 ],
 "metadata": {
  "kernelspec": {
   "display_name": "Python 3",
   "language": "python",
   "name": "python3"
  },
  "language_info": {
   "codemirror_mode": {
    "name": "ipython",
    "version": 3
   },
   "file_extension": ".py",
   "mimetype": "text/x-python",
   "name": "python",
   "nbconvert_exporter": "python",
   "pygments_lexer": "ipython3",
   "version": "3.8.5"
  }
 },
 "nbformat": 4,
 "nbformat_minor": 4
}