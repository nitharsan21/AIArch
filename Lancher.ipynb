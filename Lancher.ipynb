{
 "cells": [
  {
   "cell_type": "code",
   "execution_count": null,
   "metadata": {
    "collapsed": true,
    "pycharm": {
     "name": "#%%\n"
    }
   },
   "outputs": [],
   "source": []
  },
  {
   "cell_type": "code",
   "execution_count": 7,
   "outputs": [
    {
     "name": "stderr",
     "output_type": "stream",
     "text": [
      "2023-05-30 13:10:59,377 - INFO - GeoDataGenerator - Creating shape file based on 11 samples.\n",
      "Traceback (most recent call last):\n",
      "  File \"C:\\Users\\nitha\\PycharmProjects\\AIArch\\main\\core.py\", line 174, in <module>\n",
      "    main(args)\n",
      "  File \"C:\\Users\\nitha\\PycharmProjects\\AIArch\\main\\core.py\", line 125, in main\n",
      "    run_module_text_to_gdf(args)\n",
      "  File \"C:\\Users\\nitha\\PycharmProjects\\AIArch\\main\\core.py\", line 100, in run_module_text_to_gdf\n",
      "    GeoGenerator.run(n_jobs=args.n_jobs, starting_block=args.starting_block)\n",
      "  File \"C:\\Users\\nitha\\PycharmProjects\\AIArch\\mlgan\\dataset_builder\\GeoDataGenerator.py\", line 124, in run\n",
      "    data_file_blocks = split(data_files, n_blocks)\n",
      "  File \"C:\\Users\\nitha\\PycharmProjects\\AIArch\\mlgan\\dataset_builder\\GeoDataGenerator.py\", line 17, in split\n",
      "    k, m = divmod(len(a), n)\n",
      "ZeroDivisionError: integer division or modulo by zero\n"
     ]
    }
   ],
   "source": [
    "\n",
    "input_directory='./data/representation_prediction'\n",
    "output_directory='./data/geodata'\n",
    "module='text_to_gdf'\n",
    "step='generate_images'\n",
    "\n",
    "!python ./main/core.py \\\n",
    "  --module=$module \\\n",
    "  --step=$step \\\n",
    "  --input_directory=$input_directory \\\n",
    "  --output_directory=$output_directory\n"
   ],
   "metadata": {
    "collapsed": false,
    "ExecuteTime": {
     "end_time": "2023-05-30T11:11:00.181882600Z",
     "start_time": "2023-05-30T11:10:45.903003400Z"
    },
    "pycharm": {
     "name": "#%%\n"
    }
   }
  },
  {
   "cell_type": "code",
   "execution_count": 3,
   "outputs": [
    {
     "name": "stderr",
     "output_type": "stream",
     "text": [
      "2023-05-30 00:43:38,612 - INFO - ImageBaseGenerator - Loading files...\n",
      "Traceback (most recent call last):\n",
      "  File \"C:\\Users\\nitha\\PycharmProjects\\AIArch\\main\\core.py\", line 174, in <module>\n",
      "    main(args)\n",
      "  File \"C:\\Users\\nitha\\PycharmProjects\\AIArch\\main\\core.py\", line 119, in main\n",
      "    run_module_floor_plan(args)\n",
      "  File \"C:\\Users\\nitha\\PycharmProjects\\AIArch\\main\\core.py\", line 55, in run_module_floor_plan\n",
      "    FloorplanGenerator.run(n_jobs=args.n_jobs, starting_block=args.starting_block)\n",
      "  File \"C:\\Users\\nitha\\PycharmProjects\\AIArch\\mlgan\\dataset_builder\\ImageBaseGenerator.py\", line 152, in run\n",
      "    floorplans_gdf = pd.concat([gpd.read_file(_file) for _file in geojson_files])\n",
      "  File \"C:\\Users\\nitha\\Anaconda3\\envs\\AIArch\\lib\\site-packages\\pandas\\util\\_decorators.py\", line 331, in wrapper\n",
      "    return func(*args, **kwargs)\n",
      "  File \"C:\\Users\\nitha\\Anaconda3\\envs\\AIArch\\lib\\site-packages\\pandas\\core\\reshape\\concat.py\", line 368, in concat\n",
      "    op = _Concatenator(\n",
      "  File \"C:\\Users\\nitha\\Anaconda3\\envs\\AIArch\\lib\\site-packages\\pandas\\core\\reshape\\concat.py\", line 425, in __init__\n",
      "    raise ValueError(\"No objects to concatenate\")\n",
      "ValueError: No objects to concatenate\n"
     ]
    }
   ],
   "source": [
    "input_directory='./data/geodata'\n",
    "output_directory='./data/images/floorplan'\n",
    "module='floor_plan'\n",
    "step='generate_images'\n",
    "\n",
    "!python ./main/core.py \\\n",
    "  --module=$module \\\n",
    "  --step=$step \\\n",
    "  --input_directory=$input_directory \\\n",
    "  --output_directory=$output_directory"
   ],
   "metadata": {
    "collapsed": false,
    "ExecuteTime": {
     "end_time": "2023-05-29T22:43:39.235235700Z",
     "start_time": "2023-05-29T22:43:30.452685200Z"
    },
    "pycharm": {
     "name": "#%%\n"
    }
   }
  },
  {
   "cell_type": "code",
   "execution_count": 1,
   "outputs": [
    {
     "name": "stdout",
     "output_type": "stream",
     "text": [
      "^C\n"
     ]
    }
   ],
   "source": [
    "# run from root directory\n",
    "# bash scripts/core/3_create_structure_images.sh\n",
    "\n",
    "input_directory='./data/geodata'\n",
    "output_directory='./data/images/structure'\n",
    "module='structure_plan'\n",
    "step='generate_images'\n",
    "\n",
    "!python ./main/core.py \\\n",
    "  --module=$module \\\n",
    "  --step=$step \\\n",
    "  --input_directory=$input_directory \\\n",
    "  --output_directory=$output_directory"
   ],
   "metadata": {
    "collapsed": false,
    "pycharm": {
     "name": "#%%\n"
    }
   }
  },
  {
   "cell_type": "code",
   "execution_count": null,
   "outputs": [],
   "source": [],
   "metadata": {
    "collapsed": false,
    "pycharm": {
     "name": "#%%\n"
    }
   }
  }
 ],
 "metadata": {
  "kernelspec": {
   "display_name": "Python 3",
   "language": "python",
   "name": "python3"
  },
  "language_info": {
   "codemirror_mode": {
    "name": "ipython",
    "version": 2
   },
   "file_extension": ".py",
   "mimetype": "text/x-python",
   "name": "python",
   "nbconvert_exporter": "python",
   "pygments_lexer": "ipython2",
   "version": "2.7.6"
  }
 },
 "nbformat": 4,
 "nbformat_minor": 0
}